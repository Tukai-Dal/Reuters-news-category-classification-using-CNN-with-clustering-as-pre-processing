{
 "cells": [
  {
   "cell_type": "markdown",
   "metadata": {},
   "source": [
    "## Code is split into 4 sections: Data pre-processing, Clustering , 1D CNN and 2D CNN "
   ]
  },
  {
   "cell_type": "markdown",
   "metadata": {},
   "source": [
    "## 1. Data pre-processing"
   ]
  },
  {
   "cell_type": "code",
   "execution_count": 3,
   "metadata": {},
   "outputs": [],
   "source": [
    "#Basic imports for data extractions and clustering\n",
    "\n",
    "import xml.etree.cElementTree as et\n",
    "import pandas as pd\n",
    "import glob\n",
    "import os\n",
    "import numpy as np\n",
    "import matplotlib.pyplot as plt\n",
    "import matplotlib.cm as cm\n",
    "\n",
    "from sklearn.cluster import MiniBatchKMeans\n",
    "from sklearn.feature_extraction.text import TfidfVectorizer\n",
    "from sklearn.decomposition import PCA\n",
    "from sklearn.manifold import TSNE\n",
    "\n",
    "import warnings\n",
    "warnings.filterwarnings('ignore')"
   ]
  },
  {
   "cell_type": "code",
   "execution_count": 4,
   "metadata": {},
   "outputs": [],
   "source": [
    "#Extract from xml - A1\n",
    "\n",
    "def extract_xml(xmlfile):\n",
    "    \n",
    "    tree = et.parse(xmlfile)\n",
    "    root = tree.getroot()\n",
    "    headline = root.find(\"headline\").text                       #extracting headline\n",
    "    text = root.find(\"text\") \n",
    "    \n",
    "    rtext = \"\"\n",
    "    for child in text.iter('p'): \n",
    "        rtext = rtext + child.text + '. '                       #extracting the main text part of newsitems\n",
    "    \n",
    "    biptopics = \"\"\n",
    "    for codes in root.iter('codes'):                            #iterating codes then\n",
    "        if(codes.attrib['class'] == 'bip:topics:1.0'):  \n",
    "            for code in codes:                                  #iterating on bip:topics to find the topics    \n",
    "                biptopics = code.attrib['code']\n",
    "                break\n",
    "    \n",
    "    for dc in root.iter('dc'):\n",
    "        if(dc.attrib['element'] == 'dc.date.published'):        #finding dc date published\n",
    "            dcdate = dc.attrib['value']\n",
    "\n",
    "    if (root.attrib['itemid']) is not None:                     #finding itemid             \n",
    "        itemid = root.attrib['itemid'] \n",
    "        \n",
    "    head,tail = os.path.split(xmlfile)\n",
    "    filename = tail\n",
    "    \n",
    "    rows=[]                                                     #storing obtained values in dataframe\n",
    "    rows.append({\"headline\": headline, \"text\": rtext, \"biptopics\": biptopics, \"dcdate\": dcdate,\"itemid\":itemid,\"filename\":filename})\n",
    "    cols = [\"headline\", \"text\", \"biptopics\", \"dcdate\",\"itemid\",\"filename\"] # columns in dataframe\n",
    "    out_df = pd.DataFrame(rows, columns = cols)                 #dataframe\n",
    "    \n",
    "    return out_df         \n",
    "\n",
    "df = pd.DataFrame()\n",
    "path = os.path.expanduser(\"~/Desktop/Project/data/*.xml\")\n",
    "for fname in glob.glob(path):\n",
    "    df = pd.concat([df,extract_xml(fname)],ignore_index=True)"
   ]
  },
  {
   "cell_type": "code",
   "execution_count": 5,
   "metadata": {},
   "outputs": [],
   "source": [
    "frame = df[['headline', 'text', 'biptopics','itemid']].copy() #keeping a copy of the original dataframe for later"
   ]
  },
  {
   "cell_type": "code",
   "execution_count": 6,
   "metadata": {},
   "outputs": [
    {
     "data": {
      "text/html": [
       "<div>\n",
       "<style scoped>\n",
       "    .dataframe tbody tr th:only-of-type {\n",
       "        vertical-align: middle;\n",
       "    }\n",
       "\n",
       "    .dataframe tbody tr th {\n",
       "        vertical-align: top;\n",
       "    }\n",
       "\n",
       "    .dataframe thead th {\n",
       "        text-align: right;\n",
       "    }\n",
       "</style>\n",
       "<table border=\"1\" class=\"dataframe\">\n",
       "  <thead>\n",
       "    <tr style=\"text-align: right;\">\n",
       "      <th></th>\n",
       "      <th>headline</th>\n",
       "      <th>text</th>\n",
       "      <th>biptopics</th>\n",
       "      <th>dcdate</th>\n",
       "      <th>itemid</th>\n",
       "      <th>filename</th>\n",
       "    </tr>\n",
       "  </thead>\n",
       "  <tbody>\n",
       "    <tr>\n",
       "      <th>0</th>\n",
       "      <td>Canadian Occidental mounts rival Wascana bid.</td>\n",
       "      <td>[canadian, occident, petroleum, ltd, emerg, tu...</td>\n",
       "      <td>C181</td>\n",
       "      <td>1997-03-18</td>\n",
       "      <td>326914</td>\n",
       "      <td>326914newsML.xml</td>\n",
       "    </tr>\n",
       "    <tr>\n",
       "      <th>1</th>\n",
       "      <td>Gruma, Maseca to receive syndicated loan - bank.</td>\n",
       "      <td>[bank, america, launch, threeyear, syndic, loa...</td>\n",
       "      <td>C173</td>\n",
       "      <td>1997-03-18</td>\n",
       "      <td>326915</td>\n",
       "      <td>326915newsML.xml</td>\n",
       "    </tr>\n",
       "    <tr>\n",
       "      <th>2</th>\n",
       "      <td>Too early to call Krupp bid hostile - Deutsche...</td>\n",
       "      <td>[deutsch, bank, ag, manag, board, member, rolf...</td>\n",
       "      <td>C18</td>\n",
       "      <td>1997-03-18</td>\n",
       "      <td>326916</td>\n",
       "      <td>326916newsML.xml</td>\n",
       "    </tr>\n",
       "    <tr>\n",
       "      <th>3</th>\n",
       "      <td>FOCUS - Euro bourses fret over Wall St, electi...</td>\n",
       "      <td>[european, bours, fell, tuesday, even, wall, s...</td>\n",
       "      <td>M11</td>\n",
       "      <td>1997-03-18</td>\n",
       "      <td>326917</td>\n",
       "      <td>326917newsML.xml</td>\n",
       "    </tr>\n",
       "    <tr>\n",
       "      <th>4</th>\n",
       "      <td>French stocks fall, Alcatel posts big gain.</td>\n",
       "      <td>[french, share, close, lower, tuesday, second,...</td>\n",
       "      <td>G152</td>\n",
       "      <td>1997-03-18</td>\n",
       "      <td>326918</td>\n",
       "      <td>326918newsML.xml</td>\n",
       "    </tr>\n",
       "    <tr>\n",
       "      <th>...</th>\n",
       "      <td>...</td>\n",
       "      <td>...</td>\n",
       "      <td>...</td>\n",
       "      <td>...</td>\n",
       "      <td>...</td>\n",
       "      <td>...</td>\n",
       "    </tr>\n",
       "    <tr>\n",
       "      <th>48370</th>\n",
       "      <td>U.S. to back fewer supercomputer centers - Times.</td>\n",
       "      <td>[nation, scienc, foundat, plan, reduc, number,...</td>\n",
       "      <td></td>\n",
       "      <td>1997-03-31</td>\n",
       "      <td>477881</td>\n",
       "      <td>477881newsML.xml</td>\n",
       "    </tr>\n",
       "    <tr>\n",
       "      <th>48371</th>\n",
       "      <td>Indian shares plunge 8.6 pct on political crisis.</td>\n",
       "      <td>[indian, share, plung, eight, panicki, trade, ...</td>\n",
       "      <td>M11</td>\n",
       "      <td>1997-03-31</td>\n",
       "      <td>477882</td>\n",
       "      <td>477882newsML.xml</td>\n",
       "    </tr>\n",
       "    <tr>\n",
       "      <th>48372</th>\n",
       "      <td>Singapore shares open weak, funds stay sidelined.</td>\n",
       "      <td>[singapor, share, open, weaker, monday, fund, ...</td>\n",
       "      <td>M11</td>\n",
       "      <td>1997-03-31</td>\n",
       "      <td>477883</td>\n",
       "      <td>477883newsML.xml</td>\n",
       "    </tr>\n",
       "    <tr>\n",
       "      <th>48373</th>\n",
       "      <td>Selecta declares two centavo cash dividend.</td>\n",
       "      <td>[selecta, dairi, product, inc, declar, monday,...</td>\n",
       "      <td>C151</td>\n",
       "      <td>1997-03-31</td>\n",
       "      <td>477884</td>\n",
       "      <td>477884newsML.xml</td>\n",
       "    </tr>\n",
       "    <tr>\n",
       "      <th>48374</th>\n",
       "      <td>Tokyo stocks down in thin morning trade.</td>\n",
       "      <td>[tokyo, stock, fell, monday, morn, last, day, ...</td>\n",
       "      <td>M11</td>\n",
       "      <td>1997-03-31</td>\n",
       "      <td>477885</td>\n",
       "      <td>477885newsML.xml</td>\n",
       "    </tr>\n",
       "  </tbody>\n",
       "</table>\n",
       "<p>48375 rows × 6 columns</p>\n",
       "</div>"
      ],
      "text/plain": [
       "                                                headline  \\\n",
       "0          Canadian Occidental mounts rival Wascana bid.   \n",
       "1       Gruma, Maseca to receive syndicated loan - bank.   \n",
       "2      Too early to call Krupp bid hostile - Deutsche...   \n",
       "3      FOCUS - Euro bourses fret over Wall St, electi...   \n",
       "4            French stocks fall, Alcatel posts big gain.   \n",
       "...                                                  ...   \n",
       "48370  U.S. to back fewer supercomputer centers - Times.   \n",
       "48371  Indian shares plunge 8.6 pct on political crisis.   \n",
       "48372  Singapore shares open weak, funds stay sidelined.   \n",
       "48373        Selecta declares two centavo cash dividend.   \n",
       "48374           Tokyo stocks down in thin morning trade.   \n",
       "\n",
       "                                                    text biptopics  \\\n",
       "0      [canadian, occident, petroleum, ltd, emerg, tu...      C181   \n",
       "1      [bank, america, launch, threeyear, syndic, loa...      C173   \n",
       "2      [deutsch, bank, ag, manag, board, member, rolf...       C18   \n",
       "3      [european, bours, fell, tuesday, even, wall, s...       M11   \n",
       "4      [french, share, close, lower, tuesday, second,...      G152   \n",
       "...                                                  ...       ...   \n",
       "48370  [nation, scienc, foundat, plan, reduc, number,...             \n",
       "48371  [indian, share, plung, eight, panicki, trade, ...       M11   \n",
       "48372  [singapor, share, open, weaker, monday, fund, ...       M11   \n",
       "48373  [selecta, dairi, product, inc, declar, monday,...      C151   \n",
       "48374  [tokyo, stock, fell, monday, morn, last, day, ...       M11   \n",
       "\n",
       "           dcdate  itemid          filename  \n",
       "0      1997-03-18  326914  326914newsML.xml  \n",
       "1      1997-03-18  326915  326915newsML.xml  \n",
       "2      1997-03-18  326916  326916newsML.xml  \n",
       "3      1997-03-18  326917  326917newsML.xml  \n",
       "4      1997-03-18  326918  326918newsML.xml  \n",
       "...           ...     ...               ...  \n",
       "48370  1997-03-31  477881  477881newsML.xml  \n",
       "48371  1997-03-31  477882  477882newsML.xml  \n",
       "48372  1997-03-31  477883  477883newsML.xml  \n",
       "48373  1997-03-31  477884  477884newsML.xml  \n",
       "48374  1997-03-31  477885  477885newsML.xml  \n",
       "\n",
       "[48375 rows x 6 columns]"
      ]
     },
     "execution_count": 6,
     "metadata": {},
     "output_type": "execute_result"
    }
   ],
   "source": [
    "''' This section is to preprocess all the text'''\n",
    "import re, string, unicodedata\n",
    "import nltk\n",
    "from nltk.stem import SnowballStemmer, WordNetLemmatizer\n",
    "from bs4 import BeautifulSoup\n",
    "from nltk import word_tokenize, sent_tokenize\n",
    "\n",
    "stopwords = nltk.corpus.stopwords.words('english')\n",
    "lemmatizer = WordNetLemmatizer()\n",
    "stemmer = SnowballStemmer(\"english\")\n",
    "\n",
    "#remove html tags if any\n",
    "def strip_html(text): \n",
    "    soup = BeautifulSoup(text, \"html.parser\")\n",
    "    return soup.get_text()\n",
    "\n",
    "#remove between square brackets if any\n",
    "def remove_between_square_brackets(text):\n",
    "    return re.sub('\\[[^]]*\\]', '', text)\n",
    "\n",
    "#remove extra white spaces if any\n",
    "def remove_extra_white_spaces(text):\n",
    "    return re.sub(' +', ' ', text)\n",
    "\n",
    "#cleaning noise from text\n",
    "def denoise_text(text):\n",
    "    text = strip_html(text)\n",
    "    text = remove_between_square_brackets(text)\n",
    "    text = remove_extra_white_spaces(text)\n",
    "    return text\n",
    "\n",
    "#tokenizer\n",
    "def tokenize_text(text):\n",
    "    # first tokenize by sentence, then by word\n",
    "    tokens = [word for sent in nltk.sent_tokenize(text) for word in nltk.word_tokenize(sent)]\n",
    "    filtered_tokens = []\n",
    "    # filtering out any tokens not containing letters\n",
    "    for token in tokens:\n",
    "        if re.search('[a-zA-Z]', token):\n",
    "            filtered_tokens.append(token)\n",
    "    return filtered_tokens\n",
    "\n",
    "#Remove stop words from list of tokenized words\n",
    "def remove_stopwords(words):\n",
    "    \n",
    "    new_words = []\n",
    "    for word in words:\n",
    "        if word not in stopwords:\n",
    "            new_words.append(word)\n",
    "    return new_words\n",
    "\n",
    "#Remove custom stop words from list of tokenized words\n",
    "def remove_custom_stopwords(words):\n",
    "    \n",
    "    new_words = []\n",
    "    stopwrds = ['c','said','b','l','percent','million','billion','new','would','year','u','har','w','v','p','n','h']\n",
    "    for word in words:\n",
    "        if word not in stopwrds:\n",
    "            new_words.append(word)\n",
    "    return new_words\n",
    "\n",
    "#lemmatization\n",
    "def lemmatize_words(text):\n",
    "    return [lemmatizer.lemmatize(w) for w in text]\n",
    "\n",
    "#stemming - preferred method for clustering\n",
    "def stem_words(text):\n",
    "    stems = [stemmer.stem(t) for t in text]\n",
    "    return stems\n",
    "\n",
    "#base return function as tokenizer so tf-idf vectorizer doesn't change/interfere with tokens\n",
    "def identity_tokenizer(text):\n",
    "    return text\n",
    "\n",
    "df[\"text\"] = df[\"text\"].astype(str).str.lower()                                   #to lower case\n",
    "df[\"text\"] = df[\"text\"].astype(str).str.replace('[^\\w\\s]','')                     #remove punctuation\n",
    "df[\"text\"] = df[\"text\"].str.replace('\\d+', '')                                    #remove numbers\n",
    "df[\"text\"] = df[\"text\"].str.replace('\\t','', regex=True)                          #remove \\t in some files\n",
    "df[\"text\"] = df[\"text\"].apply(denoise_text)                                       #clean noise from text\n",
    "df[\"text\"] = df[\"text\"].apply(tokenize_text)                                      #tokenized into words\n",
    "df[\"text\"] = df[\"text\"].apply(remove_stopwords)                                   #stopwords removal\n",
    "df[\"text\"] = df[\"text\"].apply(remove_custom_stopwords)                            #custom stopwords removal\n",
    "df[\"text\"] = df[\"text\"].apply(stem_words)                                         #stemming\n",
    "df"
   ]
  },
  {
   "cell_type": "code",
   "execution_count": 7,
   "metadata": {},
   "outputs": [
    {
     "name": "stdout",
     "output_type": "stream",
     "text": [
      "Wall time: 39.4 s\n",
      "(48375, 1100)\n",
      "['abl', 'accept', 'access', 'accord', 'account', 'accus', 'achiev', 'acquir', 'acquisit', 'across', 'act', 'action', 'activ', 'actual', 'ad', 'addit', 'adjust', 'administr', 'advanc', 'affair', 'affect', 'africa', 'african', 'afternoon', 'ag', 'agenc', 'ago', 'agre', 'agreement', 'agricultur', 'ahead', 'aid', 'aim', 'air', 'airlin', 'airport', 'albania', 'albanian', 'alleg', 'allianc', 'allow', 'almost', 'along', 'alreadi', 'also', 'although', 'america', 'american', 'amid', 'among', 'amount', 'analyst', 'announc', 'annual', 'anoth', 'appeal', 'appear', 'appoint', 'approv', 'april', 'arab', 'area', 'arm', 'armi', 'around', 'arrest', 'arriv', 'asia', 'asian', 'ask', 'asset', 'assist', 'associ', 'attack', 'attempt', 'attract', 'auction', 'august', 'australia', 'australian', 'author', 'avail', 'averag', 'award', 'away', 'back', 'bad', 'balanc', 'ban', 'bank', 'barrel', 'base', 'basi', 'basi point', 'beat', 'becom', 'began', 'begin', 'behind', 'beij', 'belgian', 'believ', 'benefit', 'best', 'better', 'bid', 'big', 'biggest', 'bill', 'bln', 'block', 'board', 'bodi', 'bomb', 'bond', 'book', 'boost', 'border', 'borrow', 'bought', 'bours', 'brazil', 'break', 'bring', 'britain', 'british', 'broadcast', 'broker', 'brought', 'brussel', 'budget', 'build', 'bureau', 'busi', 'buy', 'buyer', 'cabinet', 'cabl', 'call', 'came', 'campaign', 'canada', 'canadian', 'capac', 'capit', 'car', 'care', 'cargo', 'carri', 'case', 'cash', 'caus', 'cent', 'centr', 'central', 'central bank', 'certain', 'chairman', 'chanc', 'chang', 'charg', 'chemic', 'chicago', 'chicago newsdesk', 'chief', 'chief execut', 'children', 'china', 'chines', 'citi', 'civil', 'claim', 'clear', 'clinton', 'close', 'club', 'co', 'co ltd', 'coalit', 'coast', 'combin', 'come', 'comment', 'commerci', 'commiss', 'commit', 'committe', 'commod', 'common', 'communic', 'communist', 'communiti', 'compani', 'compar', 'competit', 'complet', 'comput', 'concern', 'condit', 'confer', 'confid', 'confirm', 'congress', 'conserv', 'consid', 'consolid', 'construct', 'consult', 'consum', 'contain', 'continu', 'contract', 'contribut', 'control', 'cooper', 'copper', 'corp', 'corpor', 'correct', 'cost', 'could', 'council', 'counti', 'countri', 'coupon', 'court', 'cover', 'creat', 'credit', 'crisi', 'critic', 'crop', 'cross', 'crown', 'crude', 'cup', 'currenc', 'current', 'custom', 'cut', 'czech', 'daili', 'damag', 'data', 'date', 'david', 'day', 'de', 'deal', 'dealer', 'death', 'debt', 'dec', 'decemb', 'decid', 'decis', 'declar', 'declin', 'defenc', 'defend', 'deficit', 'delay', 'deliveri', 'demand', 'democrat', 'demonstr', 'deni', 'depart', 'deposit', 'deputi', 'design', 'desk', 'despit', 'detail', 'develop', 'die', 'differ', 'difficult', 'diplomat', 'direct', 'director', 'discount', 'discuss', 'disput', 'distribut', 'district', 'dividend', 'divis', 'document', 'dollar', 'domest', 'done', 'dont', 'dow', 'drop', 'drug', 'due', 'dutch', 'earli', 'earlier', 'earn', 'eas', 'east', 'eastern', 'econom', 'economi', 'economist', 'effect', 'effort', 'eight', 'elect', 'electr', 'electron', 'emerg', 'employ', 'employe', 'emu', 'end', 'energi', 'engin', 'enough', 'enter', 'equip', 'equiti', 'establish', 'estim', 'eu', 'europ', 'european', 'european union', 'even', 'event', 'everi', 'except', 'exchang', 'execut', 'exist', 'expand', 'expans', 'expect', 'expens', 'export', 'express', 'extend', 'face', 'facil', 'fact', 'factor', 'fail', 'fair', 'fall', 'famili', 'far', 'favour', 'fax', 'fear', 'feb', 'februari', 'fed', 'feder', 'feder reserv', 'fell', 'field', 'fight', 'figur', 'file', 'final', 'financ', 'financ minist', 'financi', 'find', 'finish', 'fire', 'firm', 'first', 'fiscal', 'five', 'fix', 'flight', 'flow', 'focus', 'follow', 'food', 'forc', 'forecast', 'foreign', 'foreign minist', 'form', 'former', 'forward', 'found', 'four', 'fourth', 'franc', 'frankfurt', 'free', 'french', 'fresh', 'friday', 'front', 'fuel', 'full', 'fund', 'futur', 'gain', 'game', 'gas', 'gave', 'gdp', 'general', 'generat', 'german', 'germani', 'get', 'giant', 'give', 'given', 'global', 'gmt', 'go', 'goal', 'gold', 'good', 'got', 'govern', 'governor', 'grain', 'grant', 'great', 'gross', 'ground', 'group', 'grow', 'growth', 'guilder', 'gulf', 'half', 'hand', 'happen', 'hard', 'head', 'health', 'heavi', 'held', 'help', 'high', 'higher', 'hike', 'hit', 'hk', 'hold', 'holiday', 'home', 'hong', 'hong kong', 'hope', 'hospit', 'hotel', 'hour', 'hous', 'howev', 'human', 'immedi', 'impact', 'import', 'improv', 'inc', 'includ', 'incom', 'increas', 'independ', 'index', 'india', 'indian', 'indic', 'indonesia', 'industri', 'inflat', 'inform', 'initi', 'institut', 'insur', 'interest', 'interest rate', 'intern', 'internet', 'interview', 'introduc', 'invest', 'investig', 'investor', 'involv', 'island', 'isra', 'israel', 'issu', 'itali', 'italian', 'item', 'jan', 'januari', 'japan', 'japanes', 'jerusalem', 'job', 'john', 'join', 'joint', 'joint ventur', 'judg', 'juli', 'jump', 'june', 'keep', 'key', 'kg', 'kill', 'king', 'km', 'know', 'known', 'kong', 'korea', 'labour', 'lack', 'land', 'larg', 'largest', 'last', 'last month', 'last week', 'late', 'later', 'latest', 'launch', 'law', 'lead', 'leader', 'leagu', 'least', 'leav', 'led', 'left', 'legal', 'legisl', 'less', 'letter', 'level', 'life', 'light', 'like', 'limit', 'line', 'link', 'liquid', 'list', 'littl', 'live', 'load', 'loan', 'local', 'london', 'london newsroom', 'long', 'longer', 'longterm', 'look', 'lose', 'loss', 'lost', 'lot', 'low', 'lower', 'ltd', 'made', 'main', 'maintain', 'major', 'make', 'maker', 'malaysia', 'man', 'manag', 'mani', 'manufactur', 'mar', 'march', 'margin', 'mark', 'market', 'match', 'materi', 'matur', 'may', 'mean', 'measur', 'media', 'medic', 'meet', 'member', 'men', 'merger', 'met', 'metal', 'mexico', 'middl', 'might', 'mile', 'militari', 'mine', 'miner', 'minist', 'ministri', 'minor', 'minut', 'monday', 'monetari', 'money', 'month', 'moodi', 'morgan', 'morn', 'moscow', 'most', 'move', 'movement', 'much', 'municip', 'must', 'na', 'name', 'nation', 'nato', 'natur', 'near', 'need', 'negoti', 'net', 'net incom', 'net profit', 'network', 'never', 'news', 'news confer', 'newsdesk', 'newspap', 'newsroom', 'next', 'next week', 'night', 'nine', 'normal', 'north', 'northern', 'note', 'novemb', 'nuclear', 'number', 'octob', 'offer', 'offic', 'offici', 'oil', 'one', 'open', 'oper', 'opportun', 'opposit', 'option', 'order', 'organis', 'origin', 'other', 'outlook', 'output', 'outsid', 'outstand', 'overal', 'overnight', 'own', 'pacif', 'packag', 'paid', 'pakistan', 'palestinian', 'paper', 'parent', 'pari', 'parliament', 'part', 'parti', 'particip', 'particular', 'partner', 'pass', 'past', 'pay', 'payment', 'pct', 'peac', 'penc', 'pension', 'peopl', 'per', 'per share', 'percentag', 'perform', 'period', 'person', 'peso', 'philippin', 'place', 'plan', 'plant', 'play', 'player', 'plc', 'point', 'poland', 'polic', 'polici', 'polit', 'poll', 'poor', 'port', 'posit', 'possibl', 'post', 'potenti', 'pound', 'power', 'predict', 'premium', 'prepar', 'present', 'presid', 'press', 'pressur', 'pretax', 'pretax profit', 'prevent', 'previous', 'price', 'prime', 'prime minist', 'prison', 'privat', 'privatis', 'probabl', 'problem', 'proceed', 'process', 'produc', 'product', 'profit', 'profit vs', 'program', 'programm', 'progress', 'project', 'promis', 'promot', 'prompt', 'properti', 'propos', 'prospect', 'protect', 'protest', 'provid', 'provinc', 'public', 'publish', 'purchas', 'push', 'put', 'quarter', 'question', 'quit', 'quot', 'race', 'radio', 'rais', 'ralli', 'rang', 'rate', 'rather', 'reach', 'readi', 'real', 'realli', 'reason', 'rebel', 'receiv', 'recent', 'recommend', 'record', 'recoveri', 'red', 'reduc', 'refer', 'reflect', 'reform', 'refuge', 'region', 'regul', 'reject', 'relat', 'releas', 'remain', 'replac', 'report', 'repres', 'republ', 'republican', 'request', 'requir', 'research', 'reserv', 'resid', 'resign', 'resourc', 'respect', 'respons', 'rest', 'restructur', 'result', 'retail', 'return', 'reuter', 'revenu', 'review', 'revis', 'right', 'rise', 'risk', 'rival', 'river', 'road', 'role', 'rose', 'round', 'rule', 'run', 'rupe', 'russia', 'russian', 'sa', 'sale', 'san', 'saturday', 'saudi', 'save', 'saw', 'say', 'schedul', 'scheme', 'school', 'score', 'sea', 'season', 'second', 'secretari', 'sector', 'secur', 'see', 'seek', 'seem', 'seen', 'sell', 'senat', 'senior', 'sent', 'separ', 'septemb', 'seri', 'serious', 'serv', 'servic', 'session', 'set', 'settl', 'settlement', 'seven', 'sever', 'share', 'share price', 'sharehold', 'sharpli', 'ship', 'shipment', 'short', 'shortterm', 'shot', 'show', 'shr', 'side', 'sign', 'signific', 'similar', 'sinc', 'singapor', 'singl', 'site', 'situat', 'six', 'six month', 'slight', 'slow', 'small', 'social', 'sold', 'soldier', 'soon', 'sourc', 'south', 'south africa', 'southern', 'soybean', 'spain', 'special', 'specul', 'spend', 'spokesman', 'spot', 'spread', 'st', 'staff', 'stage', 'stake', 'stand', 'standard', 'start', 'state', 'statement', 'station', 'statist', 'stay', 'steadi', 'steel', 'step', 'stg', 'still', 'stock', 'stock exchang', 'stock market', 'stop', 'store', 'stori', 'strategi', 'street', 'strength', 'strike', 'strong', 'structur', 'studi', 'subject', 'subsidiari', 'success', 'suffer', 'sugar', 'suggest', 'summit', 'sunday', 'suppli', 'support', 'surpris', 'survey', 'swiss', 'system', 'taiwan', 'take', 'taken', 'takeov', 'talk', 'target', 'tax', 'team', 'technic', 'technolog', 'telecom', 'telecommun', 'telephon', 'televis', 'tender', 'term', 'territori', 'test', 'th', 'thing', 'think', 'third', 'though', 'thousand', 'three', 'thursday', 'tie', 'tighten', 'time', 'today', 'togeth', 'tokyo', 'told', 'told news', 'told news confer', 'told report', 'told reuter', 'tonn', 'took', 'top', 'total', 'toward', 'town', 'trade', 'trader', 'train', 'transact', 'transport', 'travel', 'treasuri', 'treati', 'trend', 'tri', 'trial', 'trillion', 'troop', 'trust', 'tuesday', 'turkey', 'turn', 'turnov', 'two', 'two year', 'uk', 'un', 'unchang', 'unemploy', 'union', 'unit', 'unit state', 'univers', 'unless', 'unless state', 'urg', 'us', 'use', 'util', 'valu', 'vehicl', 'ventur', 'vessel', 'vice', 'victori', 'view', 'violenc', 'visit', 'volum', 'vote', 'vs', 'wage', 'wait', 'wall', 'wall street', 'want', 'war', 'warn', 'washington', 'water', 'way', 'weak', 'wednesday', 'week', 'weekend', 'weight', 'well', 'went', 'west', 'western', 'wheat', 'whether', 'white', 'whose', 'wide', 'win', 'within', 'without', 'women', 'work', 'worker', 'world', 'worri', 'worth', 'year', 'yearold', 'yeltsin', 'yen', 'yet', 'yield', 'york', 'zair', 'zealand']\n"
     ]
    }
   ],
   "source": [
    "#tfidf\n",
    "tfidf = TfidfVectorizer(\n",
    "    min_df = 0.01,\n",
    "    max_df = 0.60,\n",
    "    max_features = 1100,\n",
    "    tokenizer=identity_tokenizer, \n",
    "    lowercase=False,\n",
    "    ngram_range=(1,3)\n",
    ")\n",
    "tfidf.fit(df['text'].values)\n",
    "text = tfidf.transform(df['text'].values)\n",
    "\n",
    "\n",
    "%time tfidf_matrix = tfidf.fit_transform(df['text'].values) \n",
    "print(tfidf_matrix.shape)\n",
    "terms = tfidf.get_feature_names()\n",
    "print(terms)"
   ]
  },
  {
   "cell_type": "markdown",
   "metadata": {},
   "source": [
    "## 2. Clustering"
   ]
  },
  {
   "cell_type": "code",
   "execution_count": 8,
   "metadata": {},
   "outputs": [
    {
     "name": "stdout",
     "output_type": "stream",
     "text": [
      "Fit 2 clusters\n",
      "Fit 4 clusters\n",
      "Fit 6 clusters\n",
      "Fit 8 clusters\n",
      "Fit 10 clusters\n",
      "Fit 12 clusters\n",
      "Fit 14 clusters\n",
      "Fit 16 clusters\n",
      "Fit 18 clusters\n",
      "Fit 20 clusters\n",
      "Fit 22 clusters\n",
      "Fit 24 clusters\n",
      "Fit 26 clusters\n",
      "Fit 28 clusters\n",
      "Fit 30 clusters\n"
     ]
    },
    {
     "data": {
      "image/png": "[encoded data removed]",
      "text/plain": [
       "<Figure size 432x288 with 1 Axes>"
      ]
     },
     "metadata": {
      "needs_background": "light"
     },
     "output_type": "display_data"
    }
   ],
   "source": [
    "#Finding optimal value for K in Mini Batch Kmeans using Elbow curve\n",
    "def find_optimal_clusters_elbow(data, max_k):\n",
    "    iters = range(2, max_k+1, 2)\n",
    "    \n",
    "    sse = []\n",
    "    for k in iters:\n",
    "        sse.append(MiniBatchKMeans(n_clusters=k, init_size=1024, batch_size=2048, random_state=20).fit(data).inertia_)\n",
    "        print('Fit {} clusters'.format(k))\n",
    "\n",
    "    f, ax = plt.subplots(1, 1)\n",
    "    ax.plot(iters, sse, marker='o')\n",
    "    ax.set_xlabel('Cluster Centers')\n",
    "    ax.set_xticks(iters)\n",
    "    ax.set_xticklabels(iters)\n",
    "    ax.set_ylabel('SSE')\n",
    "    ax.set_title('SSE by Cluster Center Plot')\n",
    "    \n",
    "find_optimal_clusters_elbow(text, 30)"
   ]
  },
  {
   "cell_type": "code",
   "execution_count": 9,
   "metadata": {},
   "outputs": [],
   "source": [
    "#Finding optimal value for K in Mini Batch Kmeans using Silhouette Score\n",
    "\n",
    "from sklearn.metrics import silhouette_score\n",
    "\n",
    "def find_optimal_clusters_silhouette(data, max_k):\n",
    "    iters = range(2, max_k+1, 2)\n",
    "    for j in iters:\n",
    "        kmb = MiniBatchKMeans(n_clusters=j, init_size=1024, batch_size=2048, random_state=20).fit(data)\n",
    "        label = kmb.labels_\n",
    "        sil_coeff = silhouette_score(text, label, metric='euclidean')\n",
    "        print(\"For cluster={}, The Silhouette Coefficient = {}\".format(j, sil_coeff))\n",
    "find_optimal_clusters_silhouette(text, 30)"
   ]
  },
  {
   "cell_type": "code",
   "execution_count": 10,
   "metadata": {},
   "outputs": [],
   "source": [
    "#Clustering using MiniBatchKMeans using K from above methods\n",
    "#I used Elbow method, silhouette score and visualized clusters on TSNE to identify value or K and quality of clusters.\n",
    "\n",
    "K = 18\n",
    "def mini_batch_kmeans(data, k):\n",
    "    clusters = MiniBatchKMeans(n_clusters=k, init_size=1024, batch_size=2048, random_state=20).fit_predict(data)\n",
    "    return clusters\n",
    "clusters = mini_batch_kmeans(text, K)"
   ]
  },
  {
   "cell_type": "code",
   "execution_count": 11,
   "metadata": {},
   "outputs": [
    {
     "data": {
      "image/png": "[encoded data removed]",
      "text/plain": [
       "<Figure size 1008x432 with 2 Axes>"
      ]
     },
     "metadata": {
      "needs_background": "light"
     },
     "output_type": "display_data"
    }
   ],
   "source": [
    "#Plot PCA and TSNE to visualize clusters\n",
    "\n",
    "def plot_tsne_pca(data, labels):\n",
    "    max_label = max(labels)\n",
    "    max_items = np.random.choice(range(data.shape[0]), size=3000, replace=False)\n",
    "    \n",
    "    pca = PCA(n_components=2).fit_transform(data[max_items,:].todense())\n",
    "    tsne = TSNE().fit_transform(PCA(n_components=50).fit_transform(data[max_items,:].todense()))\n",
    "    \n",
    "    \n",
    "    idx = np.random.choice(range(pca.shape[0]), size=300, replace=False)\n",
    "    label_subset = labels[max_items]\n",
    "    label_subset = [cm.hsv(i/max_label) for i in label_subset[idx]]\n",
    "    \n",
    "    f, ax = plt.subplots(1, 2, figsize=(14, 6))\n",
    "    \n",
    "    ax[0].scatter(pca[idx, 0], pca[idx, 1], c=label_subset)\n",
    "    ax[0].set_title('PCA Cluster Plot')\n",
    "    \n",
    "    ax[1].scatter(tsne[idx, 0], tsne[idx, 1], c=label_subset)\n",
    "    ax[1].set_title('TSNE Cluster Plot')\n",
    "    \n",
    "plot_tsne_pca(text, clusters)\n",
    "    "
   ]
  },
  {
   "cell_type": "code",
   "execution_count": 12,
   "metadata": {},
   "outputs": [
    {
     "name": "stdout",
     "output_type": "stream",
     "text": [
      "\n",
      "Cluster 0\n",
      "note,name,full,march,april,record,quarter,pay,amount,latest\n",
      "\n",
      "Cluster 1\n",
      "result,newsroom,dividend,sharehold,net,franc,group,compani,profit,share\n",
      "\n",
      "Cluster 2\n",
      "broker,stock exchang,exchang,close,market,trade,point,index,share,stock\n",
      "\n",
      "Cluster 3\n",
      "crop,may,import,grain,trader,price,soybean,export,wheat,tonn\n",
      "\n",
      "Cluster 4\n",
      "may,trade,market,per,crude,barrel,oil,trader,price,cent\n",
      "\n",
      "Cluster 5\n",
      "end,except,shr,net incom,per,per share,share,loss,incom,net\n",
      "\n",
      "Cluster 6\n",
      "shr,pretax,note,dividend,net,unless state,unless,profit,profit vs,vs\n",
      "\n",
      "Cluster 7\n",
      "score,divis,leagu,team,first,game,second,cup,play,match\n",
      "\n",
      "Cluster 8\n",
      "reserv,fix,loan,money,newsroom,market,central,central bank,rate,bank\n",
      "\n",
      "Cluster 9\n",
      "compani,share,chines,properti,ltd,china,hk,hong kong,hong,kong\n",
      "\n",
      "Cluster 10\n",
      "industri,oper,product,servic,unit,corp,market,plan,group,compani\n",
      "\n",
      "Cluster 11\n",
      "arab,presid,jerusalem,peac,nato,russia,yeltsin,palestinian,isra,israel\n",
      "\n",
      "Cluster 12\n",
      "rebel,state,offici,presid,countri,peopl,polic,parti,minist,govern\n",
      "\n",
      "Cluster 13\n",
      "price,month,jan,rate,na,januari,feb,mar,februari,pct\n",
      "\n",
      "Cluster 14\n",
      "analyst,estim,buy,stock,earn,corp,quarter,compani,inc,share\n",
      "\n",
      "Cluster 15\n",
      "close,bank,trade,point,bond,us,dealer,market,dollar,rate\n",
      "\n",
      "Cluster 16\n",
      "inc,seri,price,desk,sale,moodi,date,coupon,municip,bond\n",
      "\n",
      "Cluster 17\n",
      "ltd,note,loss,parent,co ltd,latest,unless,actual,forecast,yen\n"
     ]
    }
   ],
   "source": [
    "#Top keywords for each clusters for better understanding\n",
    "\n",
    "def get_top_keywords(data, clusters, labels, n_terms):\n",
    "    df = pd.DataFrame(data.todense()).groupby(clusters).mean()\n",
    "    \n",
    "    for i,r in df.iterrows():\n",
    "        print('\\nCluster {}'.format(i))\n",
    "        print(','.join([labels[t] for t in np.argsort(r)[-n_terms:]]))\n",
    "            \n",
    "get_top_keywords(text, clusters, tfidf.get_feature_names(), 10)"
   ]
  },
  {
   "cell_type": "code",
   "execution_count": 13,
   "metadata": {},
   "outputs": [],
   "source": [
    "#Assign cluster Id to dataframe rows\n",
    "\n",
    "clustnums = []\n",
    "for i in clusters:\n",
    "    clustnums.append(i)\n",
    "frame['cluster'] = clustnums\n",
    "frame = frame.filter(['text','biptopics','cluster'], axis=1)\n",
    "frame = frame.rename(columns={\"text\": \"post\", \"biptopics\": \"tags\"})\n",
    "frame = frame[frame.astype(str)['tags'] != ''] "
   ]
  },
  {
   "cell_type": "code",
   "execution_count": 14,
   "metadata": {},
   "outputs": [],
   "source": [
    "#Saving each cluster as a separate csv for faster and separate tests/runs later with 1D and 2D CNN\n",
    "for k in range(0,K):\n",
    "    dataframe = frame.loc[frame['cluster'] == k]\n",
    "    dataframe = dataframe.filter(['post','tags'], axis=1)\n",
    "    dataframe.to_csv (r'~/Desktop/Project/Clusters/dataframe%s.csv'%k, index = None, header=True)"
   ]
  },
  {
   "cell_type": "code",
   "execution_count": 15,
   "metadata": {},
   "outputs": [],
   "source": [
    "#------------------------------------------------------------------------------#"
   ]
  },
  {
   "cell_type": "markdown",
   "metadata": {},
   "source": [
    "## 3. 1D CNN"
   ]
  },
  {
   "cell_type": "code",
   "execution_count": 17,
   "metadata": {},
   "outputs": [],
   "source": [
    "#------------------------------------------------------------------------------#"
   ]
  },
  {
   "cell_type": "code",
   "execution_count": 18,
   "metadata": {},
   "outputs": [
    {
     "name": "stderr",
     "output_type": "stream",
     "text": [
      "Using TensorFlow backend.\n"
     ]
    }
   ],
   "source": [
    "from collections import defaultdict\n",
    "\n",
    "from keras.preprocessing.text import Tokenizer\n",
    "from keras.preprocessing.sequence import pad_sequences\n",
    "from keras.utils.np_utils import to_categorical\n",
    "from sklearn.preprocessing import LabelEncoder\n",
    "\n",
    "from keras.layers import Embedding\n",
    "from keras.layers import Dense, Input, Flatten , Concatenate\n",
    "from keras.layers import Conv1D, MaxPooling1D, Embedding, Dropout\n",
    "from keras.models import Model"
   ]
  },
  {
   "cell_type": "code",
   "execution_count": 19,
   "metadata": {},
   "outputs": [],
   "source": [
    "# Define some Global Variables\n",
    "Max_len = 1000 # No of words in question we want to create a sequence with\n",
    "Max_features = 10000 # Maximum Number of words we want to include in our dictionary\n",
    "Embed_size = 100 # Size of word to vec embedding we are using\n",
    "data_split = 0.2"
   ]
  },
  {
   "cell_type": "code",
   "execution_count": 20,
   "metadata": {},
   "outputs": [],
   "source": [
    "#load data from one of the clusters \n",
    "\n",
    "data = pd.read_csv('Clusters/dataframe12.csv')\n"
   ]
  },
  {
   "cell_type": "code",
   "execution_count": 21,
   "metadata": {},
   "outputs": [
    {
     "name": "stdout",
     "output_type": "stream",
     "text": [
      "51\n"
     ]
    }
   ],
   "source": [
    "#total number of distinct tags in the cluster\n",
    "datatags = list(set(data['tags']))\n",
    "count = 0\n",
    "for i in datatags:\n",
    "    count = count+1\n",
    "print(count)\n",
    "\n",
    "#Define loss function as 'sparse_categorical_crossentropy' for good clusters with single tags\n",
    "\n",
    "if(count>1):\n",
    "    lossfunction = 'categorical_crossentropy'\n",
    "else:\n",
    "    lossfunction = 'sparse_categorical_crossentropy'"
   ]
  },
  {
   "cell_type": "code",
   "execution_count": 22,
   "metadata": {},
   "outputs": [],
   "source": [
    "#basic noise cleaning to prepare text for word embeddings\n",
    "def denoise_text(string):\n",
    "    \n",
    "    string = re.sub(r\"\\\\\", \"\", string)    \n",
    "    string = re.sub(r\"\\'\", \"\", string)    \n",
    "    string = re.sub(r\"\\\"\", \"\", string)\n",
    "    string = re.sub(r\"\\\"\", \"\", string)\n",
    "    string = unicodedata.normalize('NFKD', string).encode('ascii', 'ignore').decode('utf-8', 'ignore')\n",
    "    string = re.sub(r'[^\\w\\s]', '', string)  \n",
    "    string = re.sub(r'\\d+', '', string)\n",
    "    string = re.sub(r'\\t', '', string)\n",
    "    return string.strip().lower()\n",
    "\n",
    "texts = []\n",
    "labels = []\n",
    "\n",
    "for i in range(data.post.shape[0]):\n",
    "    text = BeautifulSoup(data.post[i])\n",
    "    texts.append(denoise_text(text.get_text()))\n",
    "    labels.append(data.tags[i])"
   ]
  },
  {
   "cell_type": "code",
   "execution_count": 23,
   "metadata": {},
   "outputs": [
    {
     "name": "stdout",
     "output_type": "stream",
     "text": [
      "Found 59494 unique tokens.\n"
     ]
    }
   ],
   "source": [
    "#text to sequences\n",
    "tokenizer = Tokenizer(num_words=Max_features)\n",
    "tokenizer.fit_on_texts(texts)\n",
    "sequences = tokenizer.texts_to_sequences(texts)\n",
    "\n",
    "word_index = tokenizer.word_index\n",
    "print('Found %s unique tokens.' % len(word_index))\n",
    "\n",
    "data = pad_sequences(sequences, maxlen=Max_len)"
   ]
  },
  {
   "cell_type": "code",
   "execution_count": 24,
   "metadata": {},
   "outputs": [
    {
     "name": "stdout",
     "output_type": "stream",
     "text": [
      "Shape of data tensor: (8629, 1000)\n",
      "Shape of label tensor: (8629, 51)\n"
     ]
    }
   ],
   "source": [
    "#label encoder to transform the tags\n",
    "encoder = LabelEncoder()\n",
    "encoder.fit(labels)\n",
    "labels = encoder.transform(labels)\n",
    "labels = to_categorical(np.asarray(labels))\n",
    "\n",
    "print('Shape of data tensor:', data.shape)\n",
    "print('Shape of label tensor:', labels.shape)"
   ]
  },
  {
   "cell_type": "code",
   "execution_count": 25,
   "metadata": {},
   "outputs": [
    {
     "name": "stdout",
     "output_type": "stream",
     "text": [
      "Shape of data tensor: (8629, 1000)\n",
      "Shape of label tensor: (8629, 51)\n"
     ]
    }
   ],
   "source": [
    "#data split\n",
    "indices = np.arange(data.shape[0])\n",
    "np.random.shuffle(indices)\n",
    "data = data[indices]\n",
    "labels = labels[indices]\n",
    "nb_validation_samples = int(data_split * data.shape[0])\n",
    "x_train = data[:-nb_validation_samples]\n",
    "y_train = labels[:-nb_validation_samples]\n",
    "x_val = data[-nb_validation_samples:]\n",
    "y_val = labels[-nb_validation_samples:]\n",
    "\n",
    "print('Shape of data tensor:', data.shape)\n",
    "print('Shape of label tensor:', labels.shape)"
   ]
  },
  {
   "cell_type": "code",
   "execution_count": 26,
   "metadata": {},
   "outputs": [],
   "source": [
    "#Load glove file, using Glove 6B 100d\n",
    "\n",
    "GLOVE_DIR = \"Glove\"\n",
    "embeddings_index = {}\n",
    "f = open(os.path.join(GLOVE_DIR, 'glove.6B.100d.txt'),encoding=\"utf-8\")\n",
    "for line in f:\n",
    "    values = line.split()\n",
    "    word = values[0]\n",
    "    coefs = np.asarray(values[1:], dtype='float32')\n",
    "    embeddings_index[word] = coefs\n",
    "f.close()"
   ]
  },
  {
   "cell_type": "code",
   "execution_count": 27,
   "metadata": {},
   "outputs": [
    {
     "name": "stdout",
     "output_type": "stream",
     "text": [
      "Total 400000 word vectors in Glove 6B 100d.\n"
     ]
    }
   ],
   "source": [
    "#Word-embedding using Glove\n",
    "\n",
    "print('Total %s word vectors in Glove 6B 100d.' % len(embeddings_index))\n",
    "\n",
    "embedding_matrix = np.random.random((len(word_index) + 1, Embed_size))\n",
    "for word, i in word_index.items():\n",
    "    embedding_vector = embeddings_index.get(word)\n",
    "    if embedding_vector is not None:\n",
    "        # words not found in embedding index will be all-zeros.\n",
    "        embedding_matrix[i] = embedding_vector\n",
    "        \n",
    "embedding_layer = Embedding(len(word_index) + 1,\n",
    "                            Embed_size,\n",
    "                            weights=[embedding_matrix],\n",
    "                            input_length=Max_len,\n",
    "                            trainable=True)\n",
    "\n",
    "sequence_input = Input(shape=(Max_len,), dtype='int32')\n",
    "embedded_sequences = embedding_layer(sequence_input)"
   ]
  },
  {
   "cell_type": "code",
   "execution_count": 28,
   "metadata": {},
   "outputs": [],
   "source": [
    "#Method applied from Paper 3 for Convolutional Auto-Encoder approach\n",
    "'''\n",
    "[Paper] Maggipinto, M., Masiero, C., Beghi, A., & Susto, G. A. (2018).\n",
    "A Convolutional Autoencoder Approach for Feature Extraction in Virtual Metrology: Paper ID 259. \n",
    "Procedia Manufacturing, 17, 126-133.\n",
    "\n",
    "\"The proposed feature extraction method exploits the representational power of a CNN composed of three convolutional\n",
    "layers(conv1, conv2 and conv3) alternated with average pooling layers(pool1, pool2 and pool3). The employment of average pooling guarantees the extraction\n",
    "of smooth features that are usually suitable for regression problems as the one under study\n",
    "\n",
    "\"the features extracted by each average pooling layer are flattened(flat1, flat2 and flat3) and concatenated in order to form a final feature vector\n",
    "'''\n",
    "flat_pools = []\n",
    "\n",
    "conv1= Conv1D(128, 5, activation='relu')(embedded_sequences) #conv1\n",
    "pool1 = MaxPooling1D(5)(conv1)                               #pool1\n",
    "flat1 = Flatten()(pool1)                                  \n",
    "flat_pools.append(flat1)\n",
    "\n",
    "conv2 = Conv1D(128, 5, activation='relu')(pool1)             #conv2\n",
    "pool2 = MaxPooling1D(5)(conv2)                               #pool2\n",
    "flat2 = Flatten()(pool2)\n",
    "flat_pools.append(flat2)\n",
    "\n",
    "conv3 = Conv1D(128, 5, activation='relu')(pool2)             #conv3\n",
    "pool3 = MaxPooling1D(35)(conv3)                              #pool3\n",
    "flat3 = Flatten()(pool3)                                     #flatten pool 1, 2 and 3\n",
    "flat_pools.append(flat3)\n",
    "\n",
    "final = Concatenate(axis=1)(flat_pools)                      #concatenate all 3 flattened layers\n",
    "final = Dropout(0.1)(final)\n",
    "predicts = Dense(count, activation='softmax')(final)\n"
   ]
  },
  {
   "cell_type": "code",
   "execution_count": 29,
   "metadata": {},
   "outputs": [],
   "source": [
    "#compile the model\n",
    "model = Model(sequence_input, predicts)\n",
    "model.compile(loss=lossfunction, optimizer='rmsprop', metrics=['acc'])"
   ]
  },
  {
   "cell_type": "code",
   "execution_count": 30,
   "metadata": {},
   "outputs": [
    {
     "name": "stdout",
     "output_type": "stream",
     "text": [
      "model - 1D CNN\n",
      "Model: \"model_1\"\n",
      "__________________________________________________________________________________________________\n",
      "Layer (type)                    Output Shape         Param #     Connected to                     \n",
      "==================================================================================================\n",
      "input_1 (InputLayer)            (None, 1000)         0                                            \n",
      "__________________________________________________________________________________________________\n",
      "embedding_1 (Embedding)         (None, 1000, 100)    5949500     input_1[0][0]                    \n",
      "__________________________________________________________________________________________________\n",
      "conv1d_1 (Conv1D)               (None, 996, 128)     64128       embedding_1[0][0]                \n",
      "__________________________________________________________________________________________________\n",
      "max_pooling1d_1 (MaxPooling1D)  (None, 199, 128)     0           conv1d_1[0][0]                   \n",
      "__________________________________________________________________________________________________\n",
      "conv1d_2 (Conv1D)               (None, 195, 128)     82048       max_pooling1d_1[0][0]            \n",
      "__________________________________________________________________________________________________\n",
      "max_pooling1d_2 (MaxPooling1D)  (None, 39, 128)      0           conv1d_2[0][0]                   \n",
      "__________________________________________________________________________________________________\n",
      "conv1d_3 (Conv1D)               (None, 35, 128)      82048       max_pooling1d_2[0][0]            \n",
      "__________________________________________________________________________________________________\n",
      "max_pooling1d_3 (MaxPooling1D)  (None, 1, 128)       0           conv1d_3[0][0]                   \n",
      "__________________________________________________________________________________________________\n",
      "flatten_1 (Flatten)             (None, 25472)        0           max_pooling1d_1[0][0]            \n",
      "__________________________________________________________________________________________________\n",
      "flatten_2 (Flatten)             (None, 4992)         0           max_pooling1d_2[0][0]            \n",
      "__________________________________________________________________________________________________\n",
      "flatten_3 (Flatten)             (None, 128)          0           max_pooling1d_3[0][0]            \n",
      "__________________________________________________________________________________________________\n",
      "concatenate_1 (Concatenate)     (None, 30592)        0           flatten_1[0][0]                  \n",
      "                                                                 flatten_2[0][0]                  \n",
      "                                                                 flatten_3[0][0]                  \n",
      "__________________________________________________________________________________________________\n",
      "dropout_1 (Dropout)             (None, 30592)        0           concatenate_1[0][0]              \n",
      "__________________________________________________________________________________________________\n",
      "dense_1 (Dense)                 (None, 51)           1560243     dropout_1[0][0]                  \n",
      "==================================================================================================\n",
      "Total params: 7,737,967\n",
      "Trainable params: 7,737,967\n",
      "Non-trainable params: 0\n",
      "__________________________________________________________________________________________________\n",
      "Train on 6904 samples, validate on 1725 samples\n",
      "Epoch 1/10\n",
      "6904/6904 [==============================] - 6s 922us/step - loss: 1.8905 - acc: 0.6680 - val_loss: 1.1049 - val_acc: 0.7386\n",
      "Epoch 2/10\n",
      "6904/6904 [==============================] - 2s 253us/step - loss: 0.9654 - acc: 0.7442 - val_loss: 1.0090 - val_acc: 0.7525\n",
      "Epoch 3/10\n",
      "6904/6904 [==============================] - 2s 254us/step - loss: 0.6097 - acc: 0.8216 - val_loss: 0.9452 - val_acc: 0.7901\n",
      "Epoch 4/10\n",
      "6904/6904 [==============================] - 2s 252us/step - loss: 0.3830 - acc: 0.8818 - val_loss: 0.9353 - val_acc: 0.7994\n",
      "Epoch 5/10\n",
      "6904/6904 [==============================] - 2s 252us/step - loss: 0.2451 - acc: 0.9270 - val_loss: 1.0047 - val_acc: 0.8000\n",
      "Epoch 6/10\n",
      "6904/6904 [==============================] - 2s 259us/step - loss: 0.1644 - acc: 0.9586 - val_loss: 1.1376 - val_acc: 0.7901\n",
      "Epoch 7/10\n",
      "6904/6904 [==============================] - 2s 310us/step - loss: 0.1296 - acc: 0.9693 - val_loss: 1.2184 - val_acc: 0.7478\n",
      "Epoch 8/10\n",
      "6904/6904 [==============================] - 2s 292us/step - loss: 0.0933 - acc: 0.9809 - val_loss: 2.0966 - val_acc: 0.7699\n",
      "Epoch 9/10\n",
      "6904/6904 [==============================] - 2s 310us/step - loss: 0.0923 - acc: 0.9794 - val_loss: 1.1901 - val_acc: 0.8128\n",
      "Epoch 10/10\n",
      "6904/6904 [==============================] - 2s 292us/step - loss: 0.0677 - acc: 0.9874 - val_loss: 1.2384 - val_acc: 0.8093\n"
     ]
    },
    {
     "data": {
      "text/plain": [
       "<keras.callbacks.callbacks.History at 0x135329fc348>"
      ]
     },
     "execution_count": 30,
     "metadata": {},
     "output_type": "execute_result"
    }
   ],
   "source": [
    "#Model summary\n",
    "print(\"model - 1D CNN\")\n",
    "model.summary()\n",
    "model.fit(x_train, y_train, validation_data=(x_val, y_val),epochs=10, batch_size=128)"
   ]
  },
  {
   "cell_type": "code",
   "execution_count": 31,
   "metadata": {},
   "outputs": [
    {
     "name": "stdout",
     "output_type": "stream",
     "text": [
      "              precision    recall  f1-score   support\n",
      "\n",
      "         C11       0.00      0.00      0.00         4\n",
      "         C12       0.80      0.30      0.43        27\n",
      "         C13       0.51      0.53      0.52        86\n",
      "         C15       0.00      0.00      0.00         2\n",
      "         C16       0.00      0.00      0.00         4\n",
      "         C17       0.00      0.00      0.00        11\n",
      "         C18       0.00      0.00      0.00         3\n",
      "         C21       0.00      0.00      0.00         2\n",
      "         C22       0.00      0.00      0.00         1\n",
      "         C24       0.50      0.13      0.21        23\n",
      "         C31       0.00      0.00      0.00         2\n",
      "         C32       0.00      0.00      0.00         1\n",
      "         C33       0.00      0.00      0.00         7\n",
      "         C41       0.00      0.00      0.00         3\n",
      "         C42       0.65      0.37      0.47        30\n",
      "        CCAT       0.00      0.00      0.00         5\n",
      "         E11       1.00      0.07      0.12        15\n",
      "         E12       0.69      0.68      0.69        69\n",
      "         E14       0.00      0.00      0.00         1\n",
      "        E141       0.00      0.00      0.00         1\n",
      "         E21       0.61      0.73      0.67        74\n",
      "         E41       0.00      0.00      0.00        20\n",
      "        E411       0.00      0.00      0.00         2\n",
      "         E51       0.64      0.22      0.33        63\n",
      "        E512       0.00      0.00      0.00         0\n",
      "         G15       0.73      0.50      0.59        44\n",
      "        G151       0.00      0.00      0.00         2\n",
      "        G155       0.00      0.00      0.00         2\n",
      "        GCAT       0.86      0.98      0.92      1213\n",
      "       GCRIM       0.00      0.00      0.00         0\n",
      "        GDEF       0.00      0.00      0.00         0\n",
      "        GDIS       0.00      0.00      0.00         1\n",
      "        GPOL       0.00      0.00      0.00         2\n",
      "        GSPO       0.00      0.00      0.00         1\n",
      "        GVIO       0.00      0.00      0.00         1\n",
      "         M11       0.00      0.00      0.00         1\n",
      "         M13       0.00      0.00      0.00         1\n",
      "         M14       0.00      0.00      0.00         1\n",
      "\n",
      "    accuracy                           0.81      1725\n",
      "   macro avg       0.18      0.12      0.13      1725\n",
      "weighted avg       0.77      0.81      0.77      1725\n",
      "\n",
      "accuracy: 0.809\n"
     ]
    }
   ],
   "source": [
    "#function to display precision, recall and f1-score for each individual tags and overall in the test dataset\n",
    "\n",
    "from sklearn import metrics\n",
    "\n",
    "def print_report_nn(model):\n",
    "    a=np.argmax(y_val, axis = 1)\n",
    "    y_actuals = encoder.inverse_transform(a)\n",
    "    y_preds = model.predict([x_val], batch_size=1024, verbose=0)\n",
    "    prediction_ = np.argmax(y_preds, axis = 1)\n",
    "    prediction_ = encoder.inverse_transform(prediction_)\n",
    "    report = metrics.classification_report(y_actuals, prediction_)\n",
    "    print(report)\n",
    "    print(\"accuracy: {:0.3f}\".format(metrics.accuracy_score(y_actuals, prediction_)))\n",
    "\n",
    "print_report_nn(model)"
   ]
  },
  {
   "cell_type": "code",
   "execution_count": 32,
   "metadata": {},
   "outputs": [],
   "source": [
    "#-------------------------------------------------------------------------------#"
   ]
  },
  {
   "cell_type": "markdown",
   "metadata": {},
   "source": [
    "## 4. 2D CNN"
   ]
  },
  {
   "cell_type": "code",
   "execution_count": 34,
   "metadata": {},
   "outputs": [],
   "source": [
    "#-------------------------------------------------------------------------------#"
   ]
  },
  {
   "cell_type": "code",
   "execution_count": 35,
   "metadata": {},
   "outputs": [],
   "source": [
    "if count<5:\n",
    "    print(\"No point running 2D CNN, Stick with 1D\")"
   ]
  },
  {
   "cell_type": "code",
   "execution_count": 36,
   "metadata": {},
   "outputs": [],
   "source": [
    "from keras.layers import Conv2D, MaxPool2D\n",
    "from keras.optimizers import Adam\n",
    "from keras.callbacks import Callback\n",
    "from keras.layers import Reshape\n",
    "from keras.callbacks import *"
   ]
  },
  {
   "cell_type": "code",
   "execution_count": 37,
   "metadata": {},
   "outputs": [],
   "source": [
    "# Define some Global Variables\n",
    "\n",
    "max_features = 10000 # Maximum Number of words we want to include in our dictionary\n",
    "maxlen = 1000 # No of words in question we want to create a sequence with\n",
    "embed_size = 300 # Size of word to vec embedding we are using"
   ]
  },
  {
   "cell_type": "code",
   "execution_count": 38,
   "metadata": {},
   "outputs": [],
   "source": [
    "#Using the largest glove library\n",
    "def load_glove(word_index):\n",
    "    '''We want to create an embedding matrix in which we keep only the word2vec for words which are in our word_index\n",
    "    '''\n",
    "    EMBEDDING_FILE = 'Glove/glove.840B.300d.txt'\n",
    "    def get_coefs(word,*arr): return word, np.asarray(arr, dtype='float32')\n",
    "    embeddings_index = dict(get_coefs(*o.split(\" \")) for o in open(EMBEDDING_FILE,encoding=\"utf-8\"))\n",
    "\n",
    "    all_embs = np.stack(embeddings_index.values())\n",
    "    emb_mean,emb_std = -0.005838499,0.48782197\n",
    "    embed_size = all_embs.shape[1]\n",
    "\n",
    "    # word_index = tokenizer.word_index\n",
    "    nb_words = min(max_features, len(word_index))\n",
    "    embedding_matrix = np.random.normal(emb_mean, emb_std, (nb_words, embed_size))\n",
    "    for word, i in word_index.items():\n",
    "        if i >= max_features: continue\n",
    "        embedding_vector = embeddings_index.get(word)\n",
    "        if embedding_vector is not None: embedding_matrix[i] = embedding_vector\n",
    "            \n",
    "    return embedding_matrix "
   ]
  },
  {
   "cell_type": "code",
   "execution_count": 39,
   "metadata": {},
   "outputs": [],
   "source": [
    "embedding_matrix = load_glove(tokenizer.word_index)"
   ]
  },
  {
   "cell_type": "code",
   "execution_count": 40,
   "metadata": {},
   "outputs": [],
   "source": [
    "def model_cnn(embedding_matrix):\n",
    "    filter_sizes = [1,3,5]\n",
    "    num_filters = 42\n",
    "\n",
    "    inp = Input(shape=(maxlen,))\n",
    "    x = Embedding(max_features, embed_size, weights=[embedding_matrix])(inp)\n",
    "    x = Reshape((maxlen, embed_size, 1))(x)\n",
    "\n",
    "    maxpool_pool = []\n",
    "    for i in range(len(filter_sizes)):            \n",
    "        conv = Conv2D(num_filters, kernel_size=(filter_sizes[i], embed_size),\n",
    "                                     kernel_initializer='he_normal', activation='elu')(x)\n",
    "        maxpool_pool.append(MaxPool2D(pool_size=(maxlen - filter_sizes[i] + 1, 1))(conv))\n",
    "    \n",
    "    flat_pools = []\n",
    "    for j in maxpool_pool:\n",
    "        fp = Flatten()(j)\n",
    "        flat_pools.append(fp)\n",
    "        \n",
    "    z = Concatenate(axis=1)(flat_pools) \n",
    "    z = Dropout(0.1)(z)\n",
    "\n",
    "    outp = Dense(count, activation=\"softmax\")(z)\n",
    "\n",
    "    model = Model(inputs=inp, outputs=outp)\n",
    "    model.compile(loss='categorical_crossentropy', optimizer='adam', metrics=['accuracy'])\n",
    "    \n",
    "    return model"
   ]
  },
  {
   "cell_type": "code",
   "execution_count": 41,
   "metadata": {},
   "outputs": [
    {
     "name": "stdout",
     "output_type": "stream",
     "text": [
      "Model: \"model_2\"\n",
      "__________________________________________________________________________________________________\n",
      "Layer (type)                    Output Shape         Param #     Connected to                     \n",
      "==================================================================================================\n",
      "input_2 (InputLayer)            (None, 1000)         0                                            \n",
      "__________________________________________________________________________________________________\n",
      "embedding_2 (Embedding)         (None, 1000, 300)    3000000     input_2[0][0]                    \n",
      "__________________________________________________________________________________________________\n",
      "reshape_1 (Reshape)             (None, 1000, 300, 1) 0           embedding_2[0][0]                \n",
      "__________________________________________________________________________________________________\n",
      "conv2d_1 (Conv2D)               (None, 1000, 1, 42)  12642       reshape_1[0][0]                  \n",
      "__________________________________________________________________________________________________\n",
      "conv2d_2 (Conv2D)               (None, 998, 1, 42)   37842       reshape_1[0][0]                  \n",
      "__________________________________________________________________________________________________\n",
      "conv2d_3 (Conv2D)               (None, 996, 1, 42)   63042       reshape_1[0][0]                  \n",
      "__________________________________________________________________________________________________\n",
      "max_pooling2d_1 (MaxPooling2D)  (None, 1, 1, 42)     0           conv2d_1[0][0]                   \n",
      "__________________________________________________________________________________________________\n",
      "max_pooling2d_2 (MaxPooling2D)  (None, 1, 1, 42)     0           conv2d_2[0][0]                   \n",
      "__________________________________________________________________________________________________\n",
      "max_pooling2d_3 (MaxPooling2D)  (None, 1, 1, 42)     0           conv2d_3[0][0]                   \n",
      "__________________________________________________________________________________________________\n",
      "flatten_4 (Flatten)             (None, 42)           0           max_pooling2d_1[0][0]            \n",
      "__________________________________________________________________________________________________\n",
      "flatten_5 (Flatten)             (None, 42)           0           max_pooling2d_2[0][0]            \n",
      "__________________________________________________________________________________________________\n",
      "flatten_6 (Flatten)             (None, 42)           0           max_pooling2d_3[0][0]            \n",
      "__________________________________________________________________________________________________\n",
      "concatenate_2 (Concatenate)     (None, 126)          0           flatten_4[0][0]                  \n",
      "                                                                 flatten_5[0][0]                  \n",
      "                                                                 flatten_6[0][0]                  \n",
      "__________________________________________________________________________________________________\n",
      "dropout_2 (Dropout)             (None, 126)          0           concatenate_2[0][0]              \n",
      "__________________________________________________________________________________________________\n",
      "dense_2 (Dense)                 (None, 51)           6477        dropout_2[0][0]                  \n",
      "==================================================================================================\n",
      "Total params: 3,120,003\n",
      "Trainable params: 3,120,003\n",
      "Non-trainable params: 0\n",
      "__________________________________________________________________________________________________\n"
     ]
    }
   ],
   "source": [
    "cnnmodel = model_cnn(embedding_matrix)\n",
    "cnnmodel.summary()"
   ]
  },
  {
   "cell_type": "code",
   "execution_count": 42,
   "metadata": {},
   "outputs": [
    {
     "name": "stdout",
     "output_type": "stream",
     "text": [
      "Train on 6904 samples, validate on 1725 samples\n",
      "Epoch 1/1\n",
      "6904/6904 [==============================] - 12s 2ms/step - loss: 2.6709 - accuracy: 0.4919 - val_loss: 1.4097 - val_accuracy: 0.7032\n",
      "\n",
      "Epoch 00001: val_loss improved from inf to 1.40975, saving model to weights_best.h5\n",
      "Train on 6904 samples, validate on 1725 samples\n",
      "Epoch 1/1\n",
      "6904/6904 [==============================] - 5s 754us/step - loss: 1.2986 - accuracy: 0.7100 - val_loss: 1.1122 - val_accuracy: 0.7345\n",
      "\n",
      "Epoch 00001: val_loss improved from 1.40975 to 1.11217, saving model to weights_best.h5\n",
      "Train on 6904 samples, validate on 1725 samples\n",
      "Epoch 1/1\n",
      "6904/6904 [==============================] - 5s 755us/step - loss: 1.0437 - accuracy: 0.7444 - val_loss: 0.9605 - val_accuracy: 0.7739\n",
      "\n",
      "Epoch 00001: val_loss improved from 1.11217 to 0.96054, saving model to weights_best.h5\n",
      "Train on 6904 samples, validate on 1725 samples\n",
      "Epoch 1/1\n",
      "6904/6904 [==============================] - 5s 760us/step - loss: 0.8981 - accuracy: 0.7745 - val_loss: 0.8830 - val_accuracy: 0.7861\n",
      "\n",
      "Epoch 00001: val_loss improved from 0.96054 to 0.88295, saving model to weights_best.h5\n",
      "Train on 6904 samples, validate on 1725 samples\n",
      "Epoch 1/1\n",
      "6904/6904 [==============================] - 5s 758us/step - loss: 0.7898 - accuracy: 0.7994 - val_loss: 0.8385 - val_accuracy: 0.7925\n",
      "\n",
      "Epoch 00001: val_loss improved from 0.88295 to 0.83853, saving model to weights_best.h5\n",
      "Train on 6904 samples, validate on 1725 samples\n",
      "Epoch 1/1\n",
      "6904/6904 [==============================] - 5s 774us/step - loss: 0.6996 - accuracy: 0.8171 - val_loss: 0.8054 - val_accuracy: 0.8012\n",
      "\n",
      "Epoch 00001: val_loss improved from 0.83853 to 0.80537, saving model to weights_best.h5\n",
      "Train on 6904 samples, validate on 1725 samples\n",
      "Epoch 1/1\n",
      "6904/6904 [==============================] - 5s 759us/step - loss: 0.6365 - accuracy: 0.8317 - val_loss: 0.7801 - val_accuracy: 0.8035\n",
      "\n",
      "Epoch 00001: val_loss improved from 0.80537 to 0.78012, saving model to weights_best.h5\n",
      "Train on 6904 samples, validate on 1725 samples\n",
      "Epoch 1/1\n",
      "6904/6904 [==============================] - 5s 760us/step - loss: 0.5675 - accuracy: 0.8521 - val_loss: 0.7631 - val_accuracy: 0.8087\n",
      "\n",
      "Epoch 00001: val_loss improved from 0.78012 to 0.76312, saving model to weights_best.h5\n",
      "Train on 6904 samples, validate on 1725 samples\n",
      "Epoch 1/1\n",
      "6904/6904 [==============================] - 6s 812us/step - loss: 0.5160 - accuracy: 0.8663 - val_loss: 0.7449 - val_accuracy: 0.8122\n",
      "\n",
      "Epoch 00001: val_loss improved from 0.76312 to 0.74489, saving model to weights_best.h5\n",
      "Train on 6904 samples, validate on 1725 samples\n",
      "Epoch 1/1\n",
      "6904/6904 [==============================] - 5s 774us/step - loss: 0.4622 - accuracy: 0.8799 - val_loss: 0.7306 - val_accuracy: 0.8151\n",
      "\n",
      "Epoch 00001: val_loss improved from 0.74489 to 0.73060, saving model to weights_best.h5\n"
     ]
    }
   ],
   "source": [
    "def train(model, epochs=5):\n",
    "    filepath=\"weights_best.h5\"\n",
    "    checkpoint = ModelCheckpoint(filepath, monitor='val_loss', verbose=2, save_best_only=True, mode='min')\n",
    "    reduce_lr = ReduceLROnPlateau(monitor='val_loss', factor=0.5, patience=1, min_lr=0.0001, verbose=2)\n",
    "    earlystopping = EarlyStopping(monitor='val_loss', min_delta=0.0001, patience=2, verbose=2, mode='auto')\n",
    "    callbacks = [checkpoint, reduce_lr]\n",
    "    for e in range(epochs):\n",
    "        model.fit(x_train, y_train, batch_size=512, epochs=1, validation_data=(x_val, y_val),callbacks=callbacks)\n",
    "    model.load_weights(filepath)\n",
    "\n",
    "train(cnnmodel, epochs = 10)\n"
   ]
  },
  {
   "cell_type": "code",
   "execution_count": 43,
   "metadata": {},
   "outputs": [
    {
     "name": "stdout",
     "output_type": "stream",
     "text": [
      "              precision    recall  f1-score   support\n",
      "\n",
      "         C11       0.00      0.00      0.00         4\n",
      "         C12       0.88      0.26      0.40        27\n",
      "         C13       0.56      0.52      0.54        86\n",
      "         C15       0.00      0.00      0.00         2\n",
      "         C16       0.00      0.00      0.00         4\n",
      "         C17       0.00      0.00      0.00        11\n",
      "         C18       0.00      0.00      0.00         3\n",
      "         C21       0.00      0.00      0.00         2\n",
      "         C22       0.00      0.00      0.00         1\n",
      "         C24       0.33      0.04      0.08        23\n",
      "         C31       0.00      0.00      0.00         2\n",
      "         C32       0.00      0.00      0.00         1\n",
      "         C33       0.00      0.00      0.00         7\n",
      "         C41       0.00      0.00      0.00         3\n",
      "         C42       0.80      0.27      0.40        30\n",
      "        CCAT       0.00      0.00      0.00         5\n",
      "         E11       1.00      0.07      0.12        15\n",
      "         E12       0.75      0.72      0.74        69\n",
      "         E14       0.00      0.00      0.00         1\n",
      "        E141       0.00      0.00      0.00         1\n",
      "         E21       0.65      0.69      0.67        74\n",
      "         E41       0.00      0.00      0.00        20\n",
      "        E411       0.00      0.00      0.00         2\n",
      "         E51       0.67      0.35      0.46        63\n",
      "         G15       0.68      0.57      0.62        44\n",
      "        G151       0.00      0.00      0.00         2\n",
      "        G155       0.00      0.00      0.00         2\n",
      "        GCAT       0.85      0.99      0.92      1213\n",
      "        GDIS       0.00      0.00      0.00         1\n",
      "        GPOL       0.00      0.00      0.00         2\n",
      "        GSPO       0.00      0.00      0.00         1\n",
      "        GVIO       0.00      0.00      0.00         1\n",
      "         M11       0.00      0.00      0.00         1\n",
      "         M13       0.00      0.00      0.00         1\n",
      "         M14       0.00      0.00      0.00         1\n",
      "\n",
      "    accuracy                           0.82      1725\n",
      "   macro avg       0.20      0.13      0.14      1725\n",
      "weighted avg       0.77      0.82      0.78      1725\n",
      "\n",
      "accuracy: 0.815\n"
     ]
    }
   ],
   "source": [
    "print_report_nn(cnnmodel)"
   ]
  },
  {
   "cell_type": "code",
   "execution_count": 46,
   "metadata": {},
   "outputs": [
    {
     "data": {
      "text/plain": [
       "'\\nhttps://github.com/richliao/textClassifier\\nhttps://www.kaggle.com/mlwhiz/interpreting-text-classification-models-with-eli5\\n[Paper 3] Maggipinto, M., Masiero, C., Beghi, A., & Susto, G. A. (2018). \\nA Convolutional Autoencoder Approach for Feature Extraction in Virtual Metrology: \\nPaper ID 259. Procedia Manufacturing, 17, 126-133.\\n'"
      ]
     },
     "execution_count": 46,
     "metadata": {},
     "output_type": "execute_result"
    }
   ],
   "source": [
    "#References  \n",
    "'''\n",
    "https://github.com/richliao/textClassifier\n",
    "https://www.kaggle.com/mlwhiz/interpreting-text-classification-models-with-eli5\n",
    "[Paper] Maggipinto, M., Masiero, C., Beghi, A., & Susto, G. A. (2018). \n",
    "A Convolutional Autoencoder Approach for Feature Extraction in Virtual Metrology: \n",
    "Paper ID 259. Procedia Manufacturing, 17, 126-133.\n",
    "'''"
   ]
  },
  {
   "cell_type": "code",
   "execution_count": null,
   "metadata": {},
   "outputs": [],
   "source": []
  }
 ],
 "metadata": {
  "kernelspec": {
   "display_name": "tensorflow-gpu",
   "language": "python",
   "name": "tensorflow-gpu"
  },
  "language_info": {
   "codemirror_mode": {
    "name": "ipython",
    "version": 3
   },
   "file_extension": ".py",
   "mimetype": "text/x-python",
   "name": "python",
   "nbconvert_exporter": "python",
   "pygments_lexer": "ipython3",
   "version": "3.7.5"
  }
 },
 "nbformat": 4,
 "nbformat_minor": 2
}
